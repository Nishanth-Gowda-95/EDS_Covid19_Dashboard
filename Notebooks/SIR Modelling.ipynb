{
 "cells": [
  {
   "cell_type": "markdown",
   "id": "2b0b8449",
   "metadata": {},
   "source": [
    "## SIR Modelling"
   ]
  },
  {
   "cell_type": "markdown",
   "id": "4cee5449",
   "metadata": {},
   "source": [
    "### Importing libraries"
   ]
  },
  {
   "cell_type": "code",
   "execution_count": null,
   "id": "6439cbfb",
   "metadata": {},
   "outputs": [],
   "source": [
    "import pandas as pd\n",
    "import numpy as np\n",
    "\n",
    "from datetime import datetime\n",
    "import pandas as pd \n",
    "\n",
    "from scipy import optimize\n",
    "from scipy import integrate\n",
    "\n",
    "%matplotlib inline\n",
    "import matplotlib as mpl\n",
    "import matplotlib.pyplot as plt\n",
    "\n",
    "import seaborn as sns\n",
    "import plotly.graph_objects as go\n",
    "import dash\n",
    "dash.__version__\n",
    "import dash_core_components as dcc\n",
    "import dash_html_components as html\n",
    "from dash.dependencies import Input, Output,State\n",
    "\n",
    "\n",
    "sns.set(style=\"darkgrid\")\n",
    "\n",
    "mpl.rcParams['figure.figsize'] = (16, 9)\n",
    "pd.set_option('display.max_rows', 500)"
   ]
  },
  {
   "cell_type": "markdown",
   "id": "ef43009f",
   "metadata": {},
   "source": [
    "## Importing data and SIR Modelling"
   ]
  },
  {
   "cell_type": "code",
   "execution_count": null,
   "id": "c60dc6bb",
   "metadata": {},
   "outputs": [],
   "source": [
    "data_path='https://raw.githubusercontent.com/CSSEGISandData/COVID-19/master/csse_covid_19_data/csse_covid_19_time_series/time_series_covid19_confirmed_global.csv'\n",
    "# data_pop = 'C:/Users/admin/ads_covid-19/data/raw/COVID-19/csse_covid_19_data/population.csv'\n",
    "\n",
    "pd_raw = pd.read_csv(data_path)\n",
    "# pd_pop = pd.read_csv(data_pop)\n",
    "country_list = pd_raw['Country/Region'].unique()\n",
    "date=pd_raw.columns[4:]\n",
    "df_analyse=pd.DataFrame({'Date':date})\n",
    "\n",
    "for each in country_list:\n",
    "    df_analyse[each] = np.array(pd_raw[pd_raw['Country/Region']==each].iloc[:,4::].sum(axis=0)).T\n",
    "df_analyse.to_csv('SIR.csv',index=False)\n",
    "\n",
    "df_analyse.sort_values('Date',ascending=True).head()\n",
    "# a=list(pd_pop['Pop'])"
   ]
  },
  {
   "cell_type": "code",
   "execution_count": null,
   "id": "014f427c",
   "metadata": {},
   "outputs": [],
   "source": [
    "def SIR_model_t(SIR,t,beta,gamma):\n",
    "    S,I,R=SIR\n",
    "    dS_dt=-beta*S*I/N0          \n",
    "    dI_dt=beta*S*I/N0-gamma*I\n",
    "    dR_dt=gamma*I\n",
    "    return dS_dt,dI_dt,dR_dt\n",
    "\n",
    "\n",
    "def fit_odeint(x, beta, gamma):\n",
    "    '''\n",
    "    helper function for the integration\n",
    "    '''\n",
    "    return integrate.odeint(SIR_model_t, (S0, I0, R0), t, args=(beta, gamma))[:,1] # we only would like to get dI"
   ]
  },
  {
   "cell_type": "code",
   "execution_count": null,
   "id": "75226d5c",
   "metadata": {},
   "outputs": [],
   "source": [
    "# set some basic parameters\n",
    "# beta/gamma is denoted as  'basic reproduction number'\n",
    "\n",
    "N0=1000000 #max susceptible population as shown in the lecture taken random\n",
    "beta=0.4   # infection spread dynamic\n",
    "gamma=0.1  # recovery rate\n",
    "\n",
    "df_data=df_analyse[35:]\n",
    "t=np.arange(df_data.shape[0])\n",
    "# condition I0+S0+R0=N0\n",
    "\n",
    "R0=0\n",
    "\n",
    "#for i in a:\n",
    "    \n",
    "#    N0=int(i)\n",
    "    \n",
    "for country in df_data.columns[1:]:\n",
    "    y_data=np.array(df_data[df_data[country]>0][country])\n",
    "    t=np.arange(len(y_data))\n",
    "\n",
    "    I0=y_data[35]\n",
    "    S0=N0-I0\n",
    "    popt=[0.4,0.1]\n",
    "    fit_odeint(t, *popt)\n",
    "    popt, pcov = optimize.curve_fit(fit_odeint, t, y_data, maxfev=50000)\n",
    "    perr = np.sqrt(np.diag(pcov))\n",
    "    fitted=fit_odeint(t, *popt)\n",
    "    fitted_pad = np.concatenate((np.zeros(df_data.shape[0]-len(fitted)) ,fitted))\n",
    "    df_data[country + '_fitted'] = fitted_pad\n",
    "\n",
    "df_data = df_data.reset_index(drop=True)\n",
    "df_data.to_csv('SIR_fitted_curve.csv')\n",
    "    "
   ]
  }
 ],
 "metadata": {
  "kernelspec": {
   "display_name": "Python [conda env:mvp]",
   "language": "python",
   "name": "conda-env-mvp-py"
  },
  "language_info": {
   "codemirror_mode": {
    "name": "ipython",
    "version": 3
   },
   "file_extension": ".py",
   "mimetype": "text/x-python",
   "name": "python",
   "nbconvert_exporter": "python",
   "pygments_lexer": "ipython3",
   "version": "3.7.13"
  }
 },
 "nbformat": 4,
 "nbformat_minor": 5
}
